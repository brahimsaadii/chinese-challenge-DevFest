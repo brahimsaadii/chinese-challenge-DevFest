{
 "cells": [
  {
   "cell_type": "code",
   "execution_count": 1,
   "id": "2032fb84",
   "metadata": {},
   "outputs": [],
   "source": [
    "import pandas as pd \n",
    "import numpy as np\n",
    "from matplotlib import pyplot as plt\n",
    "import cv2 as cv "
   ]
  },
  {
   "cell_type": "code",
   "execution_count": null,
   "id": "3cebf12e",
   "metadata": {},
   "outputs": [],
   "source": []
  },
  {
   "cell_type": "code",
   "execution_count": 2,
   "id": "7d34bc3f",
   "metadata": {},
   "outputs": [],
   "source": [
    "dataset = np.load('data/chinese-handwritten-dataset.npz',allow_pickle=True)\n",
    "\n",
    "train_data = dataset['train']\n",
    "train_labels = dataset['target']\n",
    "test_data = dataset['test']"
   ]
  },
  {
   "cell_type": "code",
   "execution_count": 3,
   "id": "3619e9b1",
   "metadata": {},
   "outputs": [
    {
     "data": {
      "text/plain": [
       "<matplotlib.image.AxesImage at 0x15b5f0f58e0>"
      ]
     },
     "execution_count": 3,
     "metadata": {},
     "output_type": "execute_result"
    },
    {
     "data": {
      "image/png": "[encoded data removed]",
      "text/plain": [
       "<Figure size 432x288 with 1 Axes>"
      ]
     },
     "metadata": {
      "needs_background": "light"
     },
     "output_type": "display_data"
    }
   ],
   "source": [
    "plt.imshow(train_data[4])"
   ]
  },
  {
   "cell_type": "code",
   "execution_count": 4,
   "id": "6d268e59",
   "metadata": {},
   "outputs": [
    {
     "data": {
      "text/plain": [
       "((53195, 64, 64), (53195,), (10000, 64, 64))"
      ]
     },
     "execution_count": 4,
     "metadata": {},
     "output_type": "execute_result"
    }
   ],
   "source": [
    "train_data.shape, train_labels.shape, test_data.shape"
   ]
  },
  {
   "cell_type": "code",
   "execution_count": 5,
   "id": "53461042",
   "metadata": {},
   "outputs": [
    {
     "data": {
      "text/plain": [
       "0    70\n",
       "dtype: int64"
      ]
     },
     "execution_count": 5,
     "metadata": {},
     "output_type": "execute_result"
    }
   ],
   "source": [
    "pd.DataFrame(train_labels).nunique()"
   ]
  },
  {
   "cell_type": "code",
   "execution_count": null,
   "id": "c34ee8b1",
   "metadata": {},
   "outputs": [],
   "source": []
  },
  {
   "cell_type": "code",
   "execution_count": 6,
   "id": "6692fda0",
   "metadata": {},
   "outputs": [],
   "source": [
    "train_labels_df = pd.DataFrame(train_labels)"
   ]
  },
  {
   "cell_type": "code",
   "execution_count": 7,
   "id": "5f18a3f4",
   "metadata": {},
   "outputs": [],
   "source": [
    "from sklearn.preprocessing import LabelEncoder\n",
    "\n",
    "label = LabelEncoder()\n",
    "train_labels_df[\"y_codes\"] = label.fit_transform(train_labels)"
   ]
  },
  {
   "cell_type": "code",
   "execution_count": null,
   "id": "be138596",
   "metadata": {},
   "outputs": [],
   "source": []
  },
  {
   "cell_type": "code",
   "execution_count": 8,
   "id": "53a4a5d1",
   "metadata": {},
   "outputs": [],
   "source": [
    "# binarisation des images\n",
    "for i in range(53195):\n",
    "    (thresh, train_data[i]) = cv.threshold(train_data[i], 128, 255, cv.THRESH_BINARY | cv.THRESH_OTSU)\n",
    "\n",
    "train_data/255;"
   ]
  },
  {
   "cell_type": "code",
   "execution_count": null,
   "id": "f89d0294",
   "metadata": {},
   "outputs": [],
   "source": []
  },
  {
   "cell_type": "code",
   "execution_count": null,
   "id": "d6996f57",
   "metadata": {},
   "outputs": [],
   "source": []
  },
  {
   "cell_type": "code",
   "execution_count": 9,
   "id": "1afb2bdf",
   "metadata": {},
   "outputs": [],
   "source": [
    "from sklearn.model_selection import train_test_split"
   ]
  },
  {
   "cell_type": "code",
   "execution_count": 10,
   "id": "585694dd",
   "metadata": {},
   "outputs": [],
   "source": [
    "# Define X_data and target\n",
    "X = np.array(train_data.copy())\n",
    "y = np.array(train_labels_df['y_codes'].copy())\n",
    "\n",
    "# Stratified train_test split on labels\n",
    "X_train, X_val, y_train, y_val = train_test_split(X, y, \n",
    "                                                  test_size=.2, \n",
    "                                                  stratify = y, \n",
    "                                                  random_state=42)"
   ]
  },
  {
   "cell_type": "code",
   "execution_count": null,
   "id": "347b8390",
   "metadata": {},
   "outputs": [],
   "source": []
  },
  {
   "cell_type": "code",
   "execution_count": 12,
   "id": "2708ccc1",
   "metadata": {},
   "outputs": [],
   "source": [
    "from sklearn.model_selection import train_test_split\n",
    "from sklearn.utils import shuffle\n",
    "from tensorflow.keras.models import Sequential\n",
    "from tensorflow.keras.layers import Dense, Flatten, Conv2D, MaxPooling2D, Dropout, LeakyReLU,GlobalMaxPooling2D\n",
    "from tensorflow.keras.metrics import top_k_categorical_accuracy,categorical_accuracy\n",
    "from tensorflow.keras.callbacks import ModelCheckpoint,ReduceLROnPlateau,EarlyStopping"
   ]
  },
  {
   "cell_type": "code",
   "execution_count": 11,
   "id": "5d92dfcb",
   "metadata": {},
   "outputs": [],
   "source": [
    "def top_3_categorical_accuracy(y_true, y_pred):\n",
    "    return top_k_categorical_accuracy(y_true, y_pred, k=3)"
   ]
  },
  {
   "cell_type": "code",
   "execution_count": null,
   "id": "ed966500",
   "metadata": {},
   "outputs": [],
   "source": []
  },
  {
   "cell_type": "code",
   "execution_count": 13,
   "id": "80f174b6",
   "metadata": {},
   "outputs": [],
   "source": [
    "from tensorflow import keras"
   ]
  },
  {
   "cell_type": "code",
   "execution_count": 14,
   "id": "3e65430e",
   "metadata": {},
   "outputs": [],
   "source": [
    "X_train = X_train.reshape(len(X_train), 64*64)\n",
    "X_train = X_train/255"
   ]
  },
  {
   "cell_type": "code",
   "execution_count": 15,
   "id": "9bd055d9",
   "metadata": {},
   "outputs": [
    {
     "data": {
      "text/plain": [
       "<matplotlib.image.AxesImage at 0x15b836267c0>"
      ]
     },
     "execution_count": 15,
     "metadata": {},
     "output_type": "execute_result"
    },
    {
     "data": {
      "image/png": "[encoded data removed]",
      "text/plain": [
       "<Figure size 432x288 with 1 Axes>"
      ]
     },
     "metadata": {
      "needs_background": "light"
     },
     "output_type": "display_data"
    }
   ],
   "source": [
    "plt.imshow(X_train[1].reshape(64,64))"
   ]
  },
  {
   "cell_type": "code",
   "execution_count": null,
   "id": "084a00bf",
   "metadata": {},
   "outputs": [],
   "source": []
  },
  {
   "cell_type": "code",
   "execution_count": 17,
   "id": "5bf4b724",
   "metadata": {},
   "outputs": [
    {
     "name": "stdout",
     "output_type": "stream",
     "text": [
      "Epoch 1/30\n",
      "1330/1330 [==============================] - 10s 7ms/step - loss: 2.9653 - accuracy: 0.2617 - top_3_categorical_accuracy: 0.0589\n",
      "Epoch 2/30\n",
      "1330/1330 [==============================] - 9s 7ms/step - loss: 1.8690 - accuracy: 0.4960 - top_3_categorical_accuracy: 0.0359\n",
      "Epoch 3/30\n",
      "1330/1330 [==============================] - 8s 6ms/step - loss: 1.5492 - accuracy: 0.5781 - top_3_categorical_accuracy: 0.0353\n",
      "Epoch 4/30\n",
      "1330/1330 [==============================] - 8s 6ms/step - loss: 1.3590 - accuracy: 0.6214 - top_3_categorical_accuracy: 0.0356\n",
      "Epoch 5/30\n",
      "1330/1330 [==============================] - 8s 6ms/step - loss: 1.2276 - accuracy: 0.6540 - top_3_categorical_accuracy: 0.0348\n",
      "Epoch 6/30\n",
      "1330/1330 [==============================] - 9s 6ms/step - loss: 1.1314 - accuracy: 0.6791 - top_3_categorical_accuracy: 0.0350\n",
      "Epoch 7/30\n",
      "1330/1330 [==============================] - 8s 6ms/step - loss: 1.0498 - accuracy: 0.7014 - top_3_categorical_accuracy: 0.0348\n",
      "Epoch 8/30\n",
      "1330/1330 [==============================] - 8s 6ms/step - loss: 0.9874 - accuracy: 0.7152 - top_3_categorical_accuracy: 0.0349\n",
      "Epoch 9/30\n",
      "1330/1330 [==============================] - 9s 7ms/step - loss: 0.9306 - accuracy: 0.7291 - top_3_categorical_accuracy: 0.0349\n",
      "Epoch 10/30\n",
      "1330/1330 [==============================] - 8s 6ms/step - loss: 0.8679 - accuracy: 0.7464 - top_3_categorical_accuracy: 0.0346\n",
      "Epoch 11/30\n",
      "1330/1330 [==============================] - 9s 6ms/step - loss: 0.8224 - accuracy: 0.7579 - top_3_categorical_accuracy: 0.0346\n",
      "Epoch 12/30\n",
      "1330/1330 [==============================] - 8s 6ms/step - loss: 0.7911 - accuracy: 0.7667 - top_3_categorical_accuracy: 0.0345\n",
      "Epoch 13/30\n",
      "1330/1330 [==============================] - 11s 8ms/step - loss: 0.7561 - accuracy: 0.7753 - top_3_categorical_accuracy: 0.0352\n",
      "Epoch 14/30\n",
      "1330/1330 [==============================] - 10s 7ms/step - loss: 0.7225 - accuracy: 0.7823 - top_3_categorical_accuracy: 0.0345\n",
      "Epoch 15/30\n",
      "1330/1330 [==============================] - 9s 7ms/step - loss: 0.6912 - accuracy: 0.7908 - top_3_categorical_accuracy: 0.0343\n",
      "Epoch 16/30\n",
      "1330/1330 [==============================] - 10s 8ms/step - loss: 0.6641 - accuracy: 0.7989 - top_3_categorical_accuracy: 0.0343\n",
      "Epoch 17/30\n",
      "1330/1330 [==============================] - 11s 8ms/step - loss: 0.6541 - accuracy: 0.8032 - top_3_categorical_accuracy: 0.0344\n",
      "Epoch 18/30\n",
      "1330/1330 [==============================] - 11s 8ms/step - loss: 0.6226 - accuracy: 0.8106 - top_3_categorical_accuracy: 0.0348\n",
      "Epoch 19/30\n",
      "1330/1330 [==============================] - 9s 7ms/step - loss: 0.6068 - accuracy: 0.8149 - top_3_categorical_accuracy: 0.0345\n",
      "Epoch 20/30\n",
      "1330/1330 [==============================] - 9s 7ms/step - loss: 0.5901 - accuracy: 0.8188 - top_3_categorical_accuracy: 0.0351\n",
      "Epoch 21/30\n",
      "1330/1330 [==============================] - 9s 7ms/step - loss: 0.5539 - accuracy: 0.8312 - top_3_categorical_accuracy: 0.0340\n",
      "Epoch 22/30\n",
      "1330/1330 [==============================] - 10s 8ms/step - loss: 0.5498 - accuracy: 0.8301 - top_3_categorical_accuracy: 0.0341\n",
      "Epoch 23/30\n",
      "1330/1330 [==============================] - 9s 7ms/step - loss: 0.5488 - accuracy: 0.8295 - top_3_categorical_accuracy: 0.0345\n",
      "Epoch 24/30\n",
      "1330/1330 [==============================] - 9s 7ms/step - loss: 0.5158 - accuracy: 0.8402 - top_3_categorical_accuracy: 0.0341\n",
      "Epoch 25/30\n",
      "1330/1330 [==============================] - 9s 7ms/step - loss: 0.5032 - accuracy: 0.8427 - top_3_categorical_accuracy: 0.0345\n",
      "Epoch 26/30\n",
      "1330/1330 [==============================] - 9s 6ms/step - loss: 0.4974 - accuracy: 0.8440 - top_3_categorical_accuracy: 0.0344\n",
      "Epoch 27/30\n",
      "1330/1330 [==============================] - 9s 7ms/step - loss: 0.4640 - accuracy: 0.8544 - top_3_categorical_accuracy: 0.0342\n",
      "Epoch 28/30\n",
      "1330/1330 [==============================] - 9s 7ms/step - loss: 0.4840 - accuracy: 0.8471 - top_3_categorical_accuracy: 0.0339\n",
      "Epoch 29/30\n",
      "1330/1330 [==============================] - 9s 7ms/step - loss: 0.4627 - accuracy: 0.8542 - top_3_categorical_accuracy: 0.0348\n",
      "Epoch 30/30\n",
      "1330/1330 [==============================] - 9s 7ms/step - loss: 0.4553 - accuracy: 0.8556 - top_3_categorical_accuracy: 0.0343\n"
     ]
    },
    {
     "data": {
      "text/plain": [
       "<keras.callbacks.History at 0x15b63aac550>"
      ]
     },
     "execution_count": 17,
     "metadata": {},
     "output_type": "execute_result"
    }
   ],
   "source": [
    "model = Sequential([\n",
    "    keras.layers.Dense(128, input_shape=(64*64,),activation = 'relu'),\n",
    "    keras.layers.Dense(264, activation=\"sigmoid\"),\n",
    "    keras.layers.Dense(264, activation=\"relu\"),\n",
    "\n",
    "    keras.layers.Dense(70 ,activation = 'sigmoid')\n",
    "    \n",
    "])\n",
    "model.compile(\n",
    "    optimizer = 'adam',\n",
    "    loss = 'sparse_categorical_crossentropy',\n",
    "    metrics = ['accuracy', top_3_categorical_accuracy]\n",
    ")\n",
    "\n",
    "model.fit(X_train, y_train, epochs = 30)"
   ]
  },
  {
   "cell_type": "code",
   "execution_count": null,
   "id": "a1ba748f",
   "metadata": {},
   "outputs": [],
   "source": []
  },
  {
   "cell_type": "code",
   "execution_count": null,
   "id": "a5d4543e",
   "metadata": {},
   "outputs": [],
   "source": []
  },
  {
   "cell_type": "markdown",
   "id": "c9fd8368",
   "metadata": {},
   "source": [
    "## accuracy "
   ]
  },
  {
   "cell_type": "code",
   "execution_count": 18,
   "id": "7fbfb527",
   "metadata": {},
   "outputs": [],
   "source": [
    "X_val = X_val.reshape(len(X_val), 64*64)\n",
    "X_val = X_val/255"
   ]
  },
  {
   "cell_type": "code",
   "execution_count": 19,
   "id": "58fb700c",
   "metadata": {},
   "outputs": [
    {
     "name": "stdout",
     "output_type": "stream",
     "text": [
      "333/333 [==============================] - 2s 4ms/step - loss: 1.1546 - accuracy: 0.7265 - top_3_categorical_accuracy: 0.0324\n"
     ]
    },
    {
     "data": {
      "text/plain": [
       "[1.154628038406372, 0.7264780402183533, 0.03242785856127739]"
      ]
     },
     "execution_count": 19,
     "metadata": {},
     "output_type": "execute_result"
    }
   ],
   "source": [
    "model.evaluate(X_val, y_val)"
   ]
  },
  {
   "cell_type": "code",
   "execution_count": null,
   "id": "2f5032ad",
   "metadata": {},
   "outputs": [],
   "source": []
  },
  {
   "cell_type": "markdown",
   "id": "cdfc4de8",
   "metadata": {},
   "source": [
    "## submission"
   ]
  },
  {
   "cell_type": "code",
   "execution_count": 20,
   "id": "2eb8b396",
   "metadata": {},
   "outputs": [],
   "source": [
    "for i in range(test_data.shape[0]):\n",
    "    (thresh1, test_data[i]) = cv.threshold(train_data[i], 128, 255, cv.THRESH_BINARY | cv.THRESH_OTSU)"
   ]
  },
  {
   "cell_type": "code",
   "execution_count": 21,
   "id": "e96e18e3",
   "metadata": {},
   "outputs": [],
   "source": [
    "test_data = test_data.reshape(len(test_data), 64*64)\n",
    "test_data = test_data/255"
   ]
  },
  {
   "cell_type": "code",
   "execution_count": 22,
   "id": "167ecbca",
   "metadata": {},
   "outputs": [
    {
     "name": "stdout",
     "output_type": "stream",
     "text": [
      "313/313 [==============================] - 1s 3ms/step\n"
     ]
    }
   ],
   "source": [
    "ynew = model.predict(test_data)"
   ]
  },
  {
   "cell_type": "code",
   "execution_count": 23,
   "id": "27ff89ce",
   "metadata": {},
   "outputs": [],
   "source": [
    "a= np.zeros(10000)\n",
    "for i in range(10000):\n",
    "    a[i] = ynew[i].argmax()"
   ]
  },
  {
   "cell_type": "code",
   "execution_count": 24,
   "id": "94537450",
   "metadata": {},
   "outputs": [
    {
     "name": "stderr",
     "output_type": "stream",
     "text": [
      "C:\\Users\\BRAHIM~1\\AppData\\Local\\Temp/ipykernel_12828/3194733911.py:2: SettingWithCopyWarning: \n",
      "A value is trying to be set on a copy of a slice from a DataFrame.\n",
      "Try using .loc[row_indexer,col_indexer] = value instead\n",
      "\n",
      "See the caveats in the documentation: https://pandas.pydata.org/pandas-docs/stable/user_guide/indexing.html#returning-a-view-versus-a-copy\n",
      "  lack['symbols'] = lack[0]\n"
     ]
    }
   ],
   "source": [
    "lack = train_labels_df.drop_duplicates(subset = \"y_codes\")\n",
    "lack['symbols'] = lack[0]"
   ]
  },
  {
   "cell_type": "code",
   "execution_count": 25,
   "id": "2eb4c05b",
   "metadata": {},
   "outputs": [
    {
     "data": {
      "text/html": [
       "<div>\n",
       "<style scoped>\n",
       "    .dataframe tbody tr th:only-of-type {\n",
       "        vertical-align: middle;\n",
       "    }\n",
       "\n",
       "    .dataframe tbody tr th {\n",
       "        vertical-align: top;\n",
       "    }\n",
       "\n",
       "    .dataframe thead th {\n",
       "        text-align: right;\n",
       "    }\n",
       "</style>\n",
       "<table border=\"1\" class=\"dataframe\">\n",
       "  <thead>\n",
       "    <tr style=\"text-align: right;\">\n",
       "      <th></th>\n",
       "      <th>0</th>\n",
       "      <th>y_codes</th>\n",
       "      <th>symbols</th>\n",
       "    </tr>\n",
       "  </thead>\n",
       "  <tbody>\n",
       "    <tr>\n",
       "      <th>0</th>\n",
       "      <td>开</td>\n",
       "      <td>31</td>\n",
       "      <td>开</td>\n",
       "    </tr>\n",
       "    <tr>\n",
       "      <th>599</th>\n",
       "      <td>发</td>\n",
       "      <td>18</td>\n",
       "      <td>发</td>\n",
       "    </tr>\n",
       "    <tr>\n",
       "      <th>1199</th>\n",
       "      <td>者</td>\n",
       "      <td>58</td>\n",
       "      <td>者</td>\n",
       "    </tr>\n",
       "    <tr>\n",
       "      <th>1801</th>\n",
       "      <td>节</td>\n",
       "      <td>60</td>\n",
       "      <td>节</td>\n",
       "    </tr>\n",
       "    <tr>\n",
       "      <th>2399</th>\n",
       "      <td>是</td>\n",
       "      <td>38</td>\n",
       "      <td>是</td>\n",
       "    </tr>\n",
       "    <tr>\n",
       "      <th>...</th>\n",
       "      <td>...</td>\n",
       "      <td>...</td>\n",
       "      <td>...</td>\n",
       "    </tr>\n",
       "    <tr>\n",
       "      <th>48157</th>\n",
       "      <td>趋</td>\n",
       "      <td>67</td>\n",
       "      <td>趋</td>\n",
       "    </tr>\n",
       "    <tr>\n",
       "      <th>48754</th>\n",
       "      <td>势</td>\n",
       "      <td>16</td>\n",
       "      <td>势</td>\n",
       "    </tr>\n",
       "    <tr>\n",
       "      <th>49952</th>\n",
       "      <td>绝</td>\n",
       "      <td>57</td>\n",
       "      <td>绝</td>\n",
       "    </tr>\n",
       "    <tr>\n",
       "      <th>50551</th>\n",
       "      <td>佳</td>\n",
       "      <td>12</td>\n",
       "      <td>佳</td>\n",
       "    </tr>\n",
       "    <tr>\n",
       "      <th>51148</th>\n",
       "      <td>机</td>\n",
       "      <td>42</td>\n",
       "      <td>机</td>\n",
       "    </tr>\n",
       "  </tbody>\n",
       "</table>\n",
       "<p>70 rows × 3 columns</p>\n",
       "</div>"
      ],
      "text/plain": [
       "       0  y_codes symbols\n",
       "0      开       31       开\n",
       "599    发       18       发\n",
       "1199   者       58       者\n",
       "1801   节       60       节\n",
       "2399   是       38       是\n",
       "...   ..      ...     ...\n",
       "48157  趋       67       趋\n",
       "48754  势       16       势\n",
       "49952  绝       57       绝\n",
       "50551  佳       12       佳\n",
       "51148  机       42       机\n",
       "\n",
       "[70 rows x 3 columns]"
      ]
     },
     "execution_count": 25,
     "metadata": {},
     "output_type": "execute_result"
    }
   ],
   "source": [
    "lack"
   ]
  },
  {
   "cell_type": "code",
   "execution_count": 27,
   "id": "bad0f69a",
   "metadata": {},
   "outputs": [
    {
     "data": {
      "text/plain": [
       "{31: '开',\n",
       " 18: '发',\n",
       " 58: '者',\n",
       " 60: '节',\n",
       " 38: '是',\n",
       " 49: '由',\n",
       " 66: '谷',\n",
       " 43: '歌',\n",
       " 20: '团',\n",
       " 11: '体',\n",
       " 55: '组',\n",
       " 56: '织',\n",
       " 50: '的',\n",
       " 27: '年',\n",
       " 29: '度',\n",
       " 34: '技',\n",
       " 41: '术',\n",
       " 44: '活',\n",
       " 15: '动',\n",
       " 37: '旨',\n",
       " 21: '在',\n",
       " 4: '为',\n",
       " 25: '学',\n",
       " 48: '生',\n",
       " 2: '专',\n",
       " 3: '业',\n",
       " 6: '人',\n",
       " 23: '士',\n",
       " 8: '以',\n",
       " 17: '及',\n",
       " 33: '所',\n",
       " 40: '有',\n",
       " 26: '对',\n",
       " 52: '科',\n",
       " 69: '领',\n",
       " 22: '域',\n",
       " 14: '充',\n",
       " 45: '满',\n",
       " 46: '热',\n",
       " 32: '情',\n",
       " 35: '提',\n",
       " 13: '供',\n",
       " 10: '会',\n",
       " 65: '议',\n",
       " 19: '和',\n",
       " 51: '研',\n",
       " 64: '讨',\n",
       " 0: '。',\n",
       " 68: '这',\n",
       " 61: '被',\n",
       " 63: '认',\n",
       " 7: '他',\n",
       " 9: '们',\n",
       " 1: '与',\n",
       " 47: '爱',\n",
       " 24: '好',\n",
       " 30: '建',\n",
       " 53: '立',\n",
       " 59: '联',\n",
       " 54: '系',\n",
       " 28: '并',\n",
       " 5: '了',\n",
       " 62: '解',\n",
       " 39: '最',\n",
       " 36: '新',\n",
       " 67: '趋',\n",
       " 16: '势',\n",
       " 57: '绝',\n",
       " 12: '佳',\n",
       " 42: '机'}"
      ]
     },
     "execution_count": 27,
     "metadata": {},
     "output_type": "execute_result"
    }
   ],
   "source": [
    "dicti = dict(zip(lack.y_codes, lack.symbols))\n",
    "dicti"
   ]
  },
  {
   "cell_type": "code",
   "execution_count": 29,
   "id": "f06a5915",
   "metadata": {},
   "outputs": [],
   "source": [
    "submission = pd.read_csv('assets/submission.txt')\n",
    "submission[\"prediction\"] = a"
   ]
  },
  {
   "cell_type": "code",
   "execution_count": 30,
   "id": "a43fec11",
   "metadata": {},
   "outputs": [],
   "source": [
    "submission['target'] = submission['prediction'].map(dicti)"
   ]
  },
  {
   "cell_type": "code",
   "execution_count": 31,
   "id": "878b35fc",
   "metadata": {},
   "outputs": [
    {
     "data": {
      "text/html": [
       "<div>\n",
       "<style scoped>\n",
       "    .dataframe tbody tr th:only-of-type {\n",
       "        vertical-align: middle;\n",
       "    }\n",
       "\n",
       "    .dataframe tbody tr th {\n",
       "        vertical-align: top;\n",
       "    }\n",
       "\n",
       "    .dataframe thead th {\n",
       "        text-align: right;\n",
       "    }\n",
       "</style>\n",
       "<table border=\"1\" class=\"dataframe\">\n",
       "  <thead>\n",
       "    <tr style=\"text-align: right;\">\n",
       "      <th></th>\n",
       "      <th>image</th>\n",
       "      <th>target</th>\n",
       "      <th>prediction</th>\n",
       "    </tr>\n",
       "  </thead>\n",
       "  <tbody>\n",
       "    <tr>\n",
       "      <th>0</th>\n",
       "      <td>0</td>\n",
       "      <td>开</td>\n",
       "      <td>31.0</td>\n",
       "    </tr>\n",
       "    <tr>\n",
       "      <th>1</th>\n",
       "      <td>1</td>\n",
       "      <td>开</td>\n",
       "      <td>31.0</td>\n",
       "    </tr>\n",
       "    <tr>\n",
       "      <th>2</th>\n",
       "      <td>2</td>\n",
       "      <td>开</td>\n",
       "      <td>31.0</td>\n",
       "    </tr>\n",
       "    <tr>\n",
       "      <th>3</th>\n",
       "      <td>3</td>\n",
       "      <td>开</td>\n",
       "      <td>31.0</td>\n",
       "    </tr>\n",
       "    <tr>\n",
       "      <th>4</th>\n",
       "      <td>4</td>\n",
       "      <td>开</td>\n",
       "      <td>31.0</td>\n",
       "    </tr>\n",
       "    <tr>\n",
       "      <th>...</th>\n",
       "      <td>...</td>\n",
       "      <td>...</td>\n",
       "      <td>...</td>\n",
       "    </tr>\n",
       "    <tr>\n",
       "      <th>9995</th>\n",
       "      <td>9995</td>\n",
       "      <td>年</td>\n",
       "      <td>27.0</td>\n",
       "    </tr>\n",
       "    <tr>\n",
       "      <th>9996</th>\n",
       "      <td>9996</td>\n",
       "      <td>学</td>\n",
       "      <td>25.0</td>\n",
       "    </tr>\n",
       "    <tr>\n",
       "      <th>9997</th>\n",
       "      <td>9997</td>\n",
       "      <td>年</td>\n",
       "      <td>27.0</td>\n",
       "    </tr>\n",
       "    <tr>\n",
       "      <th>9998</th>\n",
       "      <td>9998</td>\n",
       "      <td>年</td>\n",
       "      <td>27.0</td>\n",
       "    </tr>\n",
       "    <tr>\n",
       "      <th>9999</th>\n",
       "      <td>9999</td>\n",
       "      <td>年</td>\n",
       "      <td>27.0</td>\n",
       "    </tr>\n",
       "  </tbody>\n",
       "</table>\n",
       "<p>10000 rows × 3 columns</p>\n",
       "</div>"
      ],
      "text/plain": [
       "      image target  prediction\n",
       "0         0      开        31.0\n",
       "1         1      开        31.0\n",
       "2         2      开        31.0\n",
       "3         3      开        31.0\n",
       "4         4      开        31.0\n",
       "...     ...    ...         ...\n",
       "9995   9995      年        27.0\n",
       "9996   9996      学        25.0\n",
       "9997   9997      年        27.0\n",
       "9998   9998      年        27.0\n",
       "9999   9999      年        27.0\n",
       "\n",
       "[10000 rows x 3 columns]"
      ]
     },
     "execution_count": 31,
     "metadata": {},
     "output_type": "execute_result"
    }
   ],
   "source": [
    "submission"
   ]
  },
  {
   "cell_type": "code",
   "execution_count": 32,
   "id": "0fee24dd",
   "metadata": {},
   "outputs": [],
   "source": [
    "f = submission[[\"image\", 'target']]"
   ]
  },
  {
   "cell_type": "code",
   "execution_count": 33,
   "id": "caa8d3ab",
   "metadata": {},
   "outputs": [],
   "source": [
    "f.to_csv(r'C:\\Users\\brahim saadi\\Desktop\\devfest\\chines\\Chinese\\submission.txt', header=True, index=None, sep=',', mode='a')"
   ]
  },
  {
   "cell_type": "code",
   "execution_count": null,
   "id": "b6a12bd2",
   "metadata": {},
   "outputs": [],
   "source": []
  },
  {
   "cell_type": "code",
   "execution_count": null,
   "id": "dc35cfef",
   "metadata": {},
   "outputs": [],
   "source": []
  }
 ],
 "metadata": {
  "kernelspec": {
   "display_name": "Python 3 (ipykernel)",
   "language": "python",
   "name": "python3"
  },
  "language_info": {
   "codemirror_mode": {
    "name": "ipython",
    "version": 3
   },
   "file_extension": ".py",
   "mimetype": "text/x-python",
   "name": "python",
   "nbconvert_exporter": "python",
   "pygments_lexer": "ipython3",
   "version": "3.9.7"
  }
 },
 "nbformat": 4,
 "nbformat_minor": 5
}
